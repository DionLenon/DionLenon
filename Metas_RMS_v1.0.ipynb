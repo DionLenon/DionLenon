{
 "cells": [
  {
   "cell_type": "markdown",
   "id": "cd83dd7c",
   "metadata": {},
   "source": [
    "# Criando Automação de tarefa com Python"
   ]
  },
  {
   "cell_type": "markdown",
   "id": "9d097e6a",
   "metadata": {},
   "source": [
    "## <font color='green'>Acessar o RMS e Cadastrar as Metas das lojas </font>"
   ]
  },
  {
   "cell_type": "code",
   "execution_count": null,
   "id": "f74280dd",
   "metadata": {},
   "outputs": [],
   "source": [
    "# Instalado bibliaotecas que não vem nativas no Jupter"
   ]
  },
  {
   "cell_type": "code",
   "execution_count": null,
   "id": "8c279985",
   "metadata": {},
   "outputs": [],
   "source": [
    "#!pip install pyautogui\n",
    "#!pip install pyperclip"
   ]
  },
  {
   "cell_type": "markdown",
   "id": "a246c1be",
   "metadata": {},
   "source": [
    "### Importando as blibliotecas necessárias para automatização "
   ]
  },
  {
   "cell_type": "code",
   "execution_count": 1,
   "id": "37e1d7f1",
   "metadata": {},
   "outputs": [],
   "source": [
    "import pyautogui\n",
    "import pyperclip\n",
    "import time\n",
    "import pandas as pd"
   ]
  },
  {
   "cell_type": "markdown",
   "id": "af85eb69",
   "metadata": {},
   "source": [
    "### Logando no sistema do RMS "
   ]
  },
  {
   "cell_type": "code",
   "execution_count": 3,
   "id": "c5c047c8",
   "metadata": {},
   "outputs": [],
   "source": [
    "pyautogui.PAUSE = 2\n",
    "# Acessa o atalho do RMS\n",
    "pyautogui.click(x=55, y=359, clicks=2)\n",
    "#Loga com a senha do usuário\n",
    "pyautogui.write('dion')\n",
    "pyautogui.press('tab')\n",
    "pyautogui.write('002259')\n",
    "#Precisar tratar o tipo do usuario...\n",
    "pyautogui.press('tab')\n",
    "pyautogui.write('Matriz')\n",
    "pyautogui.press('tab')\n",
    "pyautogui.press(\"enter\", presses=2, interval=0.3)"
   ]
  },
  {
   "cell_type": "markdown",
   "id": "1bb24015",
   "metadata": {},
   "source": [
    "### Acessando o Modulo de Cadastro de Metas"
   ]
  },
  {
   "cell_type": "code",
   "execution_count": 4,
   "id": "35da8f2b",
   "metadata": {},
   "outputs": [],
   "source": [
    "# Na tela logado clicar no modulo gerencial\n",
    "# Acessar o modulo Gerencial\n",
    "time.sleep(10)\n",
    "pyautogui.click(x=54, y=190, clicks=2)\n",
    "# Acessar o modulo EIS\n",
    "pyautogui.click(x=73, y=205, clicks=2)\n",
    "# Acessar o modulo Manutenção\n",
    "pyautogui.click(x=117, y=219, clicks=2)\n",
    "# Acessar o modulo cadastro meta venda novo\n",
    "pyautogui.click(x=151, y=299, clicks=2)"
   ]
  },
  {
   "cell_type": "markdown",
   "id": "8292b64d",
   "metadata": {},
   "source": [
    "# Digitando as participações das lojas"
   ]
  },
  {
   "cell_type": "code",
   "execution_count": null,
   "id": "64d3dd10",
   "metadata": {},
   "outputs": [],
   "source": [
    "# Uma pausa de 1 segundo a cada linha de código\n",
    "pyautogui.PAUSE = 0.5\n",
    "# Aguarda 4 segundos para iniciar o próximo código\n",
    "time.sleep(5)\n",
    "# Criando uma variavel e colocando os dados da planilha nela\n",
    "planilha = pd.read_excel('META_LOJAS.xlsx', sheet_name = 'lojas')\n",
    "# Criando uma variavel e garantindo o inicio correto do loop\n",
    "index = 0\n",
    "# pega quantas linhas tem o arquivo\n",
    "max_index = max(planilha.index)\n",
    "# guarda os valores da primeira linha de cada coluna\n",
    "var_loja = planilha.loc[index,\"LJ\"]\n",
    "var_loja = int (var_loja)\n",
    "meta_loja = planilha.loc[index,\"% PART VDA\"]\n",
    "mar_loja = planilha.loc[index,\"MG\"]\n",
    "# Digitando o F2 para alterar os valores da loja\n",
    "pyautogui.press(\"f2\")\n",
    "# Digitando o número loja na primeira sequência\n",
    "pyautogui.write (str(\"{}\".format(var_loja)), 0.4)# Garantindo a estrutura da variavel\n",
    "# digita Enter\n",
    "pyautogui.press(\"enter\")\n",
    "# Digita a Meta da loja\n",
    "pyautogui.write (str(\"{:.6f}\".format(meta_loja)), 0.4)\n",
    "# Digita 3 enter para chegar até a margem da loja\n",
    "pyautogui.press(\"enter\")\n",
    "pyautogui.press(\"enter\")\n",
    "pyautogui.press(\"enter\")\n",
    "# Digita a Margem da loja\n",
    "pyautogui.write (str(\"{:.2f}\".format(mar_loja)), 0.4)\n",
    "pyautogui.press(\"enter\")\n",
    "# Confirma as alterações da participação e da margem da loja\n",
    "pyautogui.press(\"f4\")\n",
    "pyautogui.press(\"enter\")\n",
    "time.sleep(1)\n",
    "# Entrando no loop para digitar as demais metas\n",
    "while index <= 21:\n",
    "# verifica se a loja mudou toda vez que muda de linha. Se mudou eu atribuo o novo valor na mesma variavel e printo\n",
    "    if var_loja != planilha.loc[index,\"LJ\"]:\n",
    "        var_loja = planilha.loc[index,\"LJ\"]\n",
    "        var_loja = int (var_loja)\n",
    "        meta_loja = planilha.loc[index,\"% PART VDA\"]\n",
    "        mar_loja = planilha.loc[index,\"MG\"]\n",
    "        # Digita o número da loja\n",
    "        pyautogui.write (str(\"{}\".format(var_loja)), 0.4)\n",
    "        # Enter\n",
    "        pyautogui.press(\"enter\")\n",
    "        # F2\n",
    "        pyautogui.press(\"f2\")\n",
    "        # Digita o valor de participação da loja\n",
    "        pyautogui.write (str(\"{:.6f}\".format(meta_loja)), 0.4)\n",
    "        pyautogui.press(\"enter\")\n",
    "        pyautogui.press(\"enter\")\n",
    "        pyautogui.press(\"enter\")\n",
    "        # Digita o valor da Margem da loja\n",
    "        pyautogui.write (str(\"{:.2f}\".format(mar_loja)), 0.4)\n",
    "        pyautogui.press(\"enter\")\n",
    "        pyautogui.press(\"f4\")\n",
    "        pyautogui.press(\"enter\")\n",
    "    index = index+1\n",
    "# Após o término da digitação de todas as seções, volta para tela inicial\n",
    "pyautogui.press(\"f3\")"
   ]
  },
  {
   "cell_type": "markdown",
   "id": "1397a28e",
   "metadata": {},
   "source": [
    "## Digitando as metas das seções"
   ]
  },
  {
   "cell_type": "code",
   "execution_count": null,
   "id": "61fe74d1",
   "metadata": {
    "scrolled": true
   },
   "outputs": [],
   "source": [
    "# Uma pausa de 1 segundo a cada linha de código\n",
    "pyautogui.PAUSE = 0.5\n",
    "# Aguarda 4 segundos para iniciar o próximo código\n",
    "time.sleep(4)\n",
    "# Criando uma variavel e colocando os dados da planilha nela\n",
    "planilha = pd.read_excel('META_LOJAS.xlsx')\n",
    "# Criando uma variavel e garantindo o inicio correto do loop\n",
    "index = 260\n",
    "# pega quantas linhas tem o arquivo\n",
    "max_index = max(planilha.index)\n",
    "# guarda os valores da primeira linha de cada coluna\n",
    "varloja = planilha.loc[index,\"LJ\"]\n",
    "varsecao = planilha.loc[index,\"COD\"]\n",
    "varpart = planilha.loc[index,\"% part\"]\n",
    "varmg = planilha.loc[index,\"MG\"]\n",
    "# Digitando o número loja na primeira sequência\n",
    "pyautogui.write (str(\"{}\".format(varloja)), 0.4)# Garantindo a estrutura da variavel\n",
    "# digita Enter\n",
    "pyautogui.press(\"enter\")\n",
    "# digita F7\n",
    "pyautogui.press(\"f7\")\n",
    "# Digita a seção\n",
    "pyautogui.write (str(\"{}\".format(varsecao)), 0.4)\n",
    "pyautogui.press(\"enter\")\n",
    "# Digitar F2 para Alterar os valores de participação da seção\n",
    "pyautogui.press(\"f2\")\n",
    "pyautogui.write (str(\"{:.6f}\".format(varpart)), 0.4)\n",
    "pyautogui.press(\"enter\")\n",
    "pyautogui.press(\"enter\")\n",
    "pyautogui.press(\"enter\")\n",
    "pyautogui.write (str(\"{:.2f}\".format(varmg)), 0.4)\n",
    "pyautogui.press(\"enter\")\n",
    "pyautogui.press(\"f4\")\n",
    "pyautogui.press(\"enter\")\n",
    "time.sleep(2)\n",
    "#como a planilha já está na ordem não me preocupei em filtrar loja por loja e secao por secao\n",
    "while index <= max_index:    \n",
    "#verifica se a loja mudou toda vez que muda de linha. Se mudou eu atribuo o novo valor na mesma variavel e printo\n",
    "    if varloja != planilha.loc[index,\"LJ\"]:\n",
    "        varloja = planilha.loc[index,\"LJ\"]\n",
    "        # F4\n",
    "        pyautogui.press(\"f4\")\n",
    "        # Enter\n",
    "        pyautogui.press(\"enter\")\n",
    "        # 2 vezes F3\n",
    "        pyautogui.press(\"f3\")\n",
    "        pyautogui.press(\"f3\")\n",
    "        # 5 vezes o Tab\n",
    "        pyautogui.press(\"tab\")\n",
    "        pyautogui.press(\"tab\")\n",
    "        pyautogui.press(\"tab\")\n",
    "        pyautogui.press(\"tab\")\n",
    "        pyautogui.press(\"tab\")\n",
    "        # Digita a nova loja\n",
    "        pyautogui.write (str(\"{}\".format(varloja)), 0.4)\n",
    "        pyautogui.press(\"enter\")\n",
    "        pyautogui.press(\"f7\")\n",
    "        # verifica se a secao mudou toda vez que muda de linhaSe mudou eu atribuo o novo valor na mesma variavel e printo\n",
    "    if varsecao != planilha.loc[index,\"COD\"]:\n",
    "        varsecao = planilha.loc[index,\"COD\"]      \n",
    "        # Digita o número da seção\n",
    "        pyautogui.write (str(\"{}\".format(varsecao)), 0.4)\n",
    "        pyautogui.press(\"enter\")\n",
    "        pyautogui.press(\"f2\")\n",
    "        varpart = planilha.loc[index,\"% part\"]\n",
    "        # Digita o Percentual de participação da seção\n",
    "        pyautogui.write (str(\"{:.6f}\".format(varpart)), 0.4)\n",
    "        pyautogui.press(\"enter\")\n",
    "        pyautogui.press(\"enter\")\n",
    "        pyautogui.press(\"enter\")\n",
    "        # Digita a Margem\n",
    "        varmg = planilha.loc[index,\"MG\"]\n",
    "        pyautogui.write (str(\"{:.2f}\".format(varmg)), 0.4)\n",
    "        pyautogui.press(\"enter\")\n",
    "        pyautogui.press(\"f4\")\n",
    "        pyautogui.press(\"enter\")\n",
    "    index = index+1\n",
    "# Após o término da digitação de todas as seções, volta para tela inicial\n",
    "pyautogui.press(\"f3\")\n",
    "pyautogui.press(\"f3\")"
   ]
  },
  {
   "cell_type": "markdown",
   "id": "ff756115",
   "metadata": {},
   "source": [
    "## Digitando as metas da diariazação"
   ]
  },
  {
   "cell_type": "code",
   "execution_count": null,
   "id": "753be713",
   "metadata": {
    "scrolled": true
   },
   "outputs": [],
   "source": [
    "pyautogui.PAUSE = 0.5\n",
    "time.sleep(4)\n",
    "# Cria uma lista para o dados da semana e digitar os dados de lá\n",
    "planilha = pd.read_excel('META_LOJAS.xlsx')\n",
    "# Criar e carregar valores em algumas variaveis\n",
    "# Antes de iniciar a digitação\n",
    "# Variável index servirá como ponteiro para acessar cada linha da planilha de meta\n",
    "index = 13\n",
    "# Variaveis que receberão os dados da meta de acordo com o ponteiro do index na planilha de meta\n",
    "varloja = planilha.loc[index,\"LJ\"]\n",
    "varsecao = planilha.loc[index,\"COD\"]\n",
    "varpart = planilha.loc[index,\"Domingo\"]\n",
    "varmg = planilha.loc[index,\"MG\"]\n",
    "# Criação de uma lista, o qual vai receber os dados de cada dia da semana para execução de casa seção\n",
    "lista = []\n",
    "lista.append(\"{:.6f}\".format(planilha.loc[index,\"Domingo\"]))\n",
    "lista.append(\"{:.6f}\".format(planilha.loc[index,\"Segunda\"]))\n",
    "lista.append(\"{:.6f}\".format(planilha.loc[index,\"Terça\"]))\n",
    "lista.append(\"{:.6f}\".format(planilha.loc[index,\"Quarta\"]))\n",
    "lista.append(\"{:.6f}\".format(planilha.loc[index,\"Quinta\"]))\n",
    "lista.append(\"{:.6f}\".format(planilha.loc[index,\"Sexta\"]))\n",
    "lista.append(\"{:.6f}\".format(planilha.loc[index,\"Sábado\"]))\n",
    "# Digitando o número loja na primeira sequência\n",
    "pyautogui.write (str(\"{}\".format(varloja)), 0.2)# Garantindo a estrutura da variavel\n",
    "pyautogui.press(\"enter\")\n",
    "# digita F7 para acessar as seções da loja\n",
    "pyautogui.press(\"f7\")\n",
    "# Digita a seção\n",
    "pyautogui.write (str(\"{}\".format(varsecao)), 0.2)\n",
    "pyautogui.press(\"enter\")\n",
    "# Acessando o modulo de diarização\n",
    "pyautogui.press(\"f8\")\n",
    "# Alterando os valores da diarização\n",
    "pyautogui.press(\"f2\")\n",
    "pyautogui.press(\"enter\")\n",
    "# Digitando os novos valores de cada dia na primeira sequencia\n",
    "pyautogui.press(\"backspace\",presses=10, interval=0.1)\n",
    "a = 0\n",
    "while a <= 6:\n",
    "    pyautogui.write ('{}\\n'.format((lista [a])), 0.2)\n",
    "    pyautogui.press(\"enter\", presses=2, interval=0.3)\n",
    "    pyautogui.press(\"del\")\n",
    "    pyautogui.write (str(\"{:.2f}\".format(varmg)), 0.2)\n",
    "    pyautogui.press(\"enter\")\n",
    "    pyautogui.press(\"del\")\n",
    "    a = a+1\n",
    "pyautogui.press(\"enter\", presses=2, interval=0.3)\n",
    "pyautogui.press(\"f3\")\n",
    "# Acessando a próxima seção\n",
    "while index <= max(planilha.index):\n",
    "# Trocando de filial, (Mudando a loja)\n",
    "    if varloja != planilha.loc[index,\"LJ\"]:\n",
    "        varloja = planilha.loc[index,\"LJ\"]\n",
    "        pyautogui.press(\"f3\")\n",
    "        pyautogui.press(\"enter\", presses=5, interval=0.3)\n",
    "        pyautogui.write (str(\"{}\".format(varloja)), 0.2)        \n",
    "        pyautogui.press(\"enter\")\n",
    "        pyautogui.press(\"f7\")\n",
    "# Alterando a seção da mesma loja desde o inicio da primeira sequencia        \n",
    "    if varsecao != planilha.loc[index,\"COD\"]:\n",
    "        varsecao = planilha.loc[index,\"COD\"]\n",
    "        varmg = planilha.loc[index,\"MG\"]\n",
    "        lista = []\n",
    "        lista.append(\"{:.6f}\".format(planilha.loc[index,\"Domingo\"]))\n",
    "        lista.append(\"{:.6f}\".format(planilha.loc[index,\"Segunda\"]))\n",
    "        lista.append(\"{:.6f}\".format(planilha.loc[index,\"Terça\"]))\n",
    "        lista.append(\"{:.6f}\".format(planilha.loc[index,\"Quarta\"]))\n",
    "        lista.append(\"{:.6f}\".format(planilha.loc[index,\"Quinta\"]))\n",
    "        lista.append(\"{:.6f}\".format(planilha.loc[index,\"Sexta\"]))\n",
    "        lista.append(\"{:.6f}\".format(planilha.loc[index,\"Sábado\"]))\n",
    "        pyautogui.write (str(\"{}\".format(varsecao)), 0.2)\n",
    "        pyautogui.press(\"enter\")\n",
    "        # Entrando na diarização e inserindo os novos valores\n",
    "        pyautogui.press(\"f8\")\n",
    "        pyautogui.press(\"f2\")\n",
    "        pyautogui.press(\"enter\")\n",
    "        pyautogui.press(\"backspace\",presses=10, interval=0.3)\n",
    "        a = 0\n",
    "        while a <= 6:\n",
    "            pyautogui.write ('{}\\n'.format((lista [a])), 0.2)\n",
    "            pyautogui.press(\"enter\", presses=2, interval=0.3)\n",
    "            pyautogui.press(\"del\")\n",
    "            pyautogui.write (str(\"{:.2f}\".format(varmg)), 0.2)\n",
    "            pyautogui.press(\"enter\")\n",
    "            pyautogui.press(\"del\")\n",
    "            a = a+1\n",
    "        pyautogui.press(\"enter\", presses=2, interval=0.3)\n",
    "        pyautogui.press(\"f3\")\n",
    "    index = index+1\n",
    "# Retorno para a tela principal e fim da digitação de todos os dados da diariazação\n",
    "pyautogui.press(\"f3\")"
   ]
  },
  {
   "cell_type": "markdown",
   "id": "a92dd710",
   "metadata": {},
   "source": [
    "##### "
   ]
  },
  {
   "cell_type": "markdown",
   "id": "19552a70",
   "metadata": {},
   "source": [
    "## Os códigos abaixo são testes para entendimento de cada funcionalidade"
   ]
  },
  {
   "cell_type": "code",
   "execution_count": null,
   "id": "a99b2abf",
   "metadata": {},
   "outputs": [],
   "source": [
    "def teste():\n",
    "    pyautogui.press(\"enter\", presses=3, interval=0.5)\n",
    "    pyautogui.write(\"enter\", 0.5)\n",
    "#pyautogui.press(\"enter\", presses=3, interval=0.5)\n",
    "#pyautogui.write(\"enter\", 0.5)"
   ]
  },
  {
   "cell_type": "code",
   "execution_count": null,
   "id": "bf843b55",
   "metadata": {},
   "outputs": [],
   "source": [
    "   # Digitando o número loja na primeira sequência\n",
    "    pyautogui.write (str(\"{}\".format(varloja)), 0.4)# Garantindo a estrutura da variavel\n",
    "    # digita Enter\n",
    "    pyautogui.press(\"enter\")\n",
    "    # digita F7\n",
    "    pyautogui.press(\"f7\")\n",
    "    # Digita a seção\n",
    "    pyautogui.write (str(\"{}\".format(varsecao)), 0.4)\n",
    "    pyautogui.press(\"enter\")\n",
    "    # Entrando na diarização\n",
    "    pyautogui.press(\"f8\")\n",
    "    # Alterando os valores\n",
    "    pyautogui.press(\"f2\")\n",
    "    pyautogui.press(\"enter\")\n",
    "    pyautogui.press(\"backspace\",presses=10)\n",
    "    # Entrando com os dados de cada dia da semana\n",
    "    a = 0\n",
    "    while a <= 6:\n",
    "        pyautogui.write ('{}\\n'.format((lista [a])), 0.4)\n",
    "        pyautogui.press(\"enter\", presses=2, interval=0.5)\n",
    "        pyautogui.press(\"del\")\n",
    "        pyautogui.write (str(\"{:.2f}\".format(varmg)), 0.4)\n",
    "        pyautogui.press(\"enter\")\n",
    "        pyautogui.press(\"del\")\n",
    "        a = a+1\n",
    "    pyautogui.press(\"enter\", presses=2, interval=0.5)\n",
    "    pyautogui.press(\"f3\")\n"
   ]
  },
  {
   "cell_type": "code",
   "execution_count": null,
   "id": "97937093",
   "metadata": {},
   "outputs": [],
   "source": [
    "index = 2\n",
    "print (index)\n",
    "print (varsecao)\n",
    "print (planilha.loc[index,\"COD\"])"
   ]
  },
  {
   "cell_type": "code",
   "execution_count": null,
   "id": "666e8232",
   "metadata": {
    "scrolled": true
   },
   "outputs": [],
   "source": [
    "# Código pronto para a digitação de cada dia\n",
    "time.sleep(5)\n",
    "a = 0\n",
    "while a <= 6:\n",
    "    pyautogui.write ('{}\\n'.format((lista [a])), 0.4)\n",
    "    a = a+1\n",
    "pyautogui.write ('{}\\n'.format('Terminou'), 0.4)"
   ]
  },
  {
   "cell_type": "code",
   "execution_count": null,
   "id": "fce78b31",
   "metadata": {},
   "outputs": [],
   "source": [
    "planilha = pd.read_excel('META_LOJAS.xlsx')\n",
    "index = 1\n",
    "lista = []\n",
    "lista.append(\"{:.6f}\".format(planilha.loc[index,\"Domingo\"]))\n",
    "lista.append(\"{:.6f}\".format(planilha.loc[index,\"Segunda\"]))\n",
    "lista.append(\"{:.6f}\".format(planilha.loc[index,\"Terça\"]))\n",
    "lista.append(\"{:.6f}\".format(planilha.loc[index,\"Quarta\"]))\n",
    "lista.append(\"{:.6f}\".format(planilha.loc[index,\"Quinta\"]))\n",
    "lista.append(\"{:.6f}\".format(planilha.loc[index,\"Sexta\"]))\n",
    "lista.append(\"{:.6f}\".format(planilha.loc[index,\"Sábado\"]))"
   ]
  },
  {
   "cell_type": "markdown",
   "id": "f29abe73",
   "metadata": {},
   "source": [
    "## comando diversos e outros teste de código"
   ]
  },
  {
   "cell_type": "code",
   "execution_count": null,
   "id": "5b386e0d",
   "metadata": {},
   "outputs": [],
   "source": [
    "# Buscando a possíção do mouse\n",
    "#time.sleep(5)\n",
    "#pyautogui.position()"
   ]
  },
  {
   "cell_type": "code",
   "execution_count": null,
   "id": "9ef9cb65",
   "metadata": {
    "scrolled": true
   },
   "outputs": [],
   "source": [
    "#teste = tabela.loc[(tabela ['LJ'] == 27) & (tabela ['COD'] == 1), '% part'].values[0]\n",
    "#teste = str(\"{:.6f}\".format(teste))\n",
    "#time.sleep(3)\n",
    "#pyautogui.write (teste, 0.4)"
   ]
  },
  {
   "cell_type": "code",
   "execution_count": null,
   "id": "db5576fa",
   "metadata": {
    "scrolled": true
   },
   "outputs": [],
   "source": [
    "# Abrir a planilha de metas\n",
    "#tabela = pd.read_excel('META_LOJAS.xlsx')\n",
    "#display(tabela)"
   ]
  },
  {
   "cell_type": "code",
   "execution_count": null,
   "id": "a2805b1d",
   "metadata": {},
   "outputs": [],
   "source": [
    "#abaixo código do Rodrigão Enviado por e-mail"
   ]
  },
  {
   "cell_type": "code",
   "execution_count": null,
   "id": "638cc9d5",
   "metadata": {},
   "outputs": [],
   "source": [
    "#planilha = pd.read_excel('META_LOJAS.xlsx')\n",
    "#index = 0\n",
    "#pega quantas linhas tem o arquivo\n",
    "#max_index = max(planilha.index)\n",
    "#guarda os valores da primeira linha e printa loja e secao\n",
    "#varloja = planilha.loc[index,\"LJ\"]\n",
    "#varsecao = planilha.loc[index,\"COD\"]\n",
    "\n",
    "#substituir todos os prints pelo pyautogui\n",
    "#print(varloja)\n",
    "#print(varsecao)\n",
    "\n",
    "#como a planilha já está na ordem não me preocupei em filtrar loja por loja e secao por secao\n",
    "#while index <= max_index:\n",
    "#verifica se a loja mudou toda vez que muda de linha. Se mudou eu atribuo o novo valor na mesma variavel e printo\n",
    "#    if varloja != planilha.loc[index,\"LJ\"]:\n",
    "#        varloja = planilha.loc[index,\"LJ\"]\n",
    "#        print(varloja)\n",
    "#        #verifica se a secao mudou toda vez que muda de linhaSe mudou eu atribuo o novo valor na mesma variavel e printo\n",
    "#    if varsecao != planilha.loc[index,\"COD\"]:\n",
    "#        varsecao = planilha.loc[index,\"COD\"]\n",
    "#        print(varsecao)\n",
    "#       #varloja = planilha.loc[index,\"LJ\"]\n",
    "#        #varsecao = planilha.loc[index,\"COD\"]\n",
    "#        varpart = planilha.loc[index,\"% part\"]\n",
    "#        #print(varloja)\n",
    "#       #print(varsecao)\n",
    "#        print(varpart)\n",
    "#    index = index+1"
   ]
  },
  {
   "cell_type": "code",
   "execution_count": null,
   "id": "86bf187e",
   "metadata": {},
   "outputs": [],
   "source": [
    "#teste = tabela.loc[(tabela ['LJ'] == 418) & (tabela ['COD'] == 21), '% part'].values[0]\n",
    "#teste = str(\"{:.6f}\".format(teste))\n",
    "#print (teste)"
   ]
  },
  {
   "cell_type": "code",
   "execution_count": null,
   "id": "dae5510b",
   "metadata": {},
   "outputs": [],
   "source": [
    "#for i in range(13):\n",
    "#    meta_lj02 = tabela.loc[(tabela ['LJ'] == 27) & (tabela ['COD'] == 1), '% part'].values[0]\n",
    "#    meta_lj02 = str(\"{:.6f}\".format(meta_lj02))\n",
    "#print (meta_lj02)"
   ]
  },
  {
   "cell_type": "code",
   "execution_count": null,
   "id": "b552b7d0",
   "metadata": {},
   "outputs": [],
   "source": [
    "# Esplorando outros recursos do pyautogui!\n",
    "#pyautogui.alert('Digite OK button para confirmar')\n",
    "#pyautogui.confirm('Digite OK para continuar ou Cancelar para sair')\n",
    "#Teste2 = pyautogui.prompt('Insere os Dados para continuar ou Cancelar para sair.')"
   ]
  }
 ],
 "metadata": {
  "kernelspec": {
   "display_name": "Python 3",
   "language": "python",
   "name": "python3"
  },
  "language_info": {
   "codemirror_mode": {
    "name": "ipython",
    "version": 3
   },
   "file_extension": ".py",
   "mimetype": "text/x-python",
   "name": "python",
   "nbconvert_exporter": "python",
   "pygments_lexer": "ipython3",
   "version": "3.8.8"
  }
 },
 "nbformat": 4,
 "nbformat_minor": 5
}
